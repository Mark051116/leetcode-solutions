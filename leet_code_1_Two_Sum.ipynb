{
  "nbformat": 4,
  "nbformat_minor": 0,
  "metadata": {
    "colab": {
      "provenance": []
    },
    "kernelspec": {
      "name": "python3",
      "display_name": "Python 3"
    },
    "language_info": {
      "name": "python"
    }
  },
  "cells": [
    {
      "cell_type": "markdown",
      "source": [
        "# 1. Two Sum\n",
        "Given an array of integers nums and an integer target, return indices of the two numbers such that they add up to target.\n",
        "\n",
        "You may assume that each input would have exactly one solution, and you may not use the same element twice.\n",
        "\n",
        "You can return the answer in any order.\n",
        "\n",
        "**Example 1:**\n",
        "\n",
        "Input: nums = [2,7,11,15], target = 9\n",
        "Output: [0,1]\n",
        "Explanation: Because nums[0] + nums[1] == 9, we return [0, 1].\n",
        "\n",
        "**Example 2:**\n",
        "\n",
        "Input: nums = [3,2,4], target = 6\n",
        "Output: [1,2]\n",
        "\n",
        "**Example 3:**\n",
        "\n",
        "Input: nums = [3,3], target = 6\n",
        "Output: [0,1]\n",
        "\n",
        "**Constraints:**\n",
        "\n",
        "2 <= nums.length <= 10^4\n",
        "\n",
        "-10^9 <= nums[i] <= 10^9\n",
        "\n",
        "-10^9 <= target <= 10^9\n",
        "\n",
        "Only one valid answer exists."
      ],
      "metadata": {
        "id": "n39YVlDMvRH9"
      }
    },
    {
      "cell_type": "code",
      "execution_count": null,
      "metadata": {
        "id": "_EKgKYLKvKdR"
      },
      "outputs": [],
      "source": [
        "class Solution:\n",
        "    def twoSum(self, nums: List[int], target: int) -> List[int]:\n",
        "        numsmap={}\n",
        "        for i in range(len(nums)):\n",
        "            if target-nums[i] in numsmap:\n",
        "                return [numsmap[target-nums[i]],i]\n",
        "            numsmap[nums[i]]=i"
      ]
    }
  ]
}